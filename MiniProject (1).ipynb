{
  "cells": [
    {
      "cell_type": "code",
      "execution_count": null,
      "metadata": {
        "id": "sKQD576FeVUF",
        "colab": {
          "base_uri": "https://localhost:8080/",
          "height": 270
        },
        "outputId": "be93dfb7-ec61-4764-f57e-4c49ad2f0579"
      },
      "outputs": [
        {
          "output_type": "error",
          "ename": "FileNotFoundError",
          "evalue": "[Errno 2] No such file or directory: '/content/drive/MyDrive/Medicinal Leaf Dataset/Segmented Medicinal Leaf Images'",
          "traceback": [
            "\u001b[0;31m---------------------------------------------------------------------------\u001b[0m",
            "\u001b[0;31mFileNotFoundError\u001b[0m                         Traceback (most recent call last)",
            "\u001b[0;32m<ipython-input-1-d06f663ad9e4>\u001b[0m in \u001b[0;36m<cell line: 16>\u001b[0;34m()\u001b[0m\n\u001b[1;32m     14\u001b[0m \u001b[0;34m\u001b[0m\u001b[0m\n\u001b[1;32m     15\u001b[0m \u001b[0;31m# Iterate through the dataset and split it\u001b[0m\u001b[0;34m\u001b[0m\u001b[0;34m\u001b[0m\u001b[0m\n\u001b[0;32m---> 16\u001b[0;31m \u001b[0;32mfor\u001b[0m \u001b[0mclass_folder\u001b[0m \u001b[0;32min\u001b[0m \u001b[0mos\u001b[0m\u001b[0;34m.\u001b[0m\u001b[0mlistdir\u001b[0m\u001b[0;34m(\u001b[0m\u001b[0mdataset_folder\u001b[0m\u001b[0;34m)\u001b[0m\u001b[0;34m:\u001b[0m\u001b[0;34m\u001b[0m\u001b[0;34m\u001b[0m\u001b[0m\n\u001b[0m\u001b[1;32m     17\u001b[0m     \u001b[0mclass_path\u001b[0m \u001b[0;34m=\u001b[0m \u001b[0mos\u001b[0m\u001b[0;34m.\u001b[0m\u001b[0mpath\u001b[0m\u001b[0;34m.\u001b[0m\u001b[0mjoin\u001b[0m\u001b[0;34m(\u001b[0m\u001b[0mdataset_folder\u001b[0m\u001b[0;34m,\u001b[0m \u001b[0mclass_folder\u001b[0m\u001b[0;34m)\u001b[0m\u001b[0;34m\u001b[0m\u001b[0;34m\u001b[0m\u001b[0m\n\u001b[1;32m     18\u001b[0m     \u001b[0mimages\u001b[0m \u001b[0;34m=\u001b[0m \u001b[0mos\u001b[0m\u001b[0;34m.\u001b[0m\u001b[0mlistdir\u001b[0m\u001b[0;34m(\u001b[0m\u001b[0mclass_path\u001b[0m\u001b[0;34m)\u001b[0m\u001b[0;34m\u001b[0m\u001b[0;34m\u001b[0m\u001b[0m\n",
            "\u001b[0;31mFileNotFoundError\u001b[0m: [Errno 2] No such file or directory: '/content/drive/MyDrive/Medicinal Leaf Dataset/Segmented Medicinal Leaf Images'"
          ]
        }
      ],
      "source": [
        "import os\n",
        "import random\n",
        "import shutil\n",
        "\n",
        "# Define the path to the dataset folder in Colab\n",
        "dataset_folder = '/content/drive/MyDrive/Medicinal Leaf Dataset/Segmented Medicinal Leaf Images'  # The path where you unzipped your dataset\n",
        "\n",
        "# Define the train-test split ratio (e.g., 80% train, 20% test)\n",
        "train_ratio = 0.8\n",
        "\n",
        "# Create 'train' and 'test' directories within the Colab environment\n",
        "os.makedirs('train', exist_ok=True)\n",
        "os.makedirs('test', exist_ok=True)\n",
        "\n",
        "# Iterate through the dataset and split it\n",
        "for class_folder in os.listdir(dataset_folder):\n",
        "    class_path = os.path.join(dataset_folder, class_folder)\n",
        "    images = os.listdir(class_path)\n",
        "    random.shuffle(images)\n",
        "\n",
        "    # Calculate the number of images for training\n",
        "    split_index = int(len(images) * train_ratio)\n",
        "\n",
        "    # Split the images into train and test sets\n",
        "    train_images = images[:split_index]\n",
        "    test_images = images[split_index:]\n",
        "\n",
        "    # Copy the train images to the train folder\n",
        "    for image in train_images:\n",
        "        src = os.path.join(class_path, image)\n",
        "        dest = os.path.join('train', class_folder, image)\n",
        "        os.makedirs(os.path.dirname(dest), exist_ok=True)\n",
        "        shutil.copy(src, dest)\n",
        "\n",
        "    # Copy the test images to the test folder\n",
        "    for image in test_images:\n",
        "        src = os.path.join(class_path, image)\n",
        "        dest = os.path.join('test', class_folder, image)\n",
        "        os.makedirs(os.path.dirname(dest), exist_ok=True)\n",
        "        shutil.copy(src, dest)"
      ]
    },
    {
      "cell_type": "code",
      "source": [],
      "metadata": {
        "id": "gkBHHU34ZFjG"
      },
      "execution_count": null,
      "outputs": []
    },
    {
      "cell_type": "markdown",
      "source": [],
      "metadata": {
        "id": "ZzjLQ7jGw3oi"
      }
    },
    {
      "cell_type": "code",
      "source": [
        "from google.colab import drive\n",
        "drive.mount('/content/drive')"
      ],
      "metadata": {
        "id": "WhCoQQl0uzNW",
        "colab": {
          "base_uri": "https://localhost:8080/",
          "height": 348
        },
        "outputId": "7f202fc9-1bf4-4a90-e3e4-a2080e9f17dd"
      },
      "execution_count": null,
      "outputs": [
        {
          "output_type": "error",
          "ename": "MessageError",
          "evalue": "Error: credential propagation was unsuccessful",
          "traceback": [
            "\u001b[0;31m---------------------------------------------------------------------------\u001b[0m",
            "\u001b[0;31mMessageError\u001b[0m                              Traceback (most recent call last)",
            "\u001b[0;32m<ipython-input-3-d5df0069828e>\u001b[0m in \u001b[0;36m<cell line: 2>\u001b[0;34m()\u001b[0m\n\u001b[1;32m      1\u001b[0m \u001b[0;32mfrom\u001b[0m \u001b[0mgoogle\u001b[0m\u001b[0;34m.\u001b[0m\u001b[0mcolab\u001b[0m \u001b[0;32mimport\u001b[0m \u001b[0mdrive\u001b[0m\u001b[0;34m\u001b[0m\u001b[0;34m\u001b[0m\u001b[0m\n\u001b[0;32m----> 2\u001b[0;31m \u001b[0mdrive\u001b[0m\u001b[0;34m.\u001b[0m\u001b[0mmount\u001b[0m\u001b[0;34m(\u001b[0m\u001b[0;34m'/content/drive'\u001b[0m\u001b[0;34m)\u001b[0m\u001b[0;34m\u001b[0m\u001b[0;34m\u001b[0m\u001b[0m\n\u001b[0m",
            "\u001b[0;32m/usr/local/lib/python3.10/dist-packages/google/colab/drive.py\u001b[0m in \u001b[0;36mmount\u001b[0;34m(mountpoint, force_remount, timeout_ms, readonly)\u001b[0m\n\u001b[1;32m     98\u001b[0m \u001b[0;32mdef\u001b[0m \u001b[0mmount\u001b[0m\u001b[0;34m(\u001b[0m\u001b[0mmountpoint\u001b[0m\u001b[0;34m,\u001b[0m \u001b[0mforce_remount\u001b[0m\u001b[0;34m=\u001b[0m\u001b[0;32mFalse\u001b[0m\u001b[0;34m,\u001b[0m \u001b[0mtimeout_ms\u001b[0m\u001b[0;34m=\u001b[0m\u001b[0;36m120000\u001b[0m\u001b[0;34m,\u001b[0m \u001b[0mreadonly\u001b[0m\u001b[0;34m=\u001b[0m\u001b[0;32mFalse\u001b[0m\u001b[0;34m)\u001b[0m\u001b[0;34m:\u001b[0m\u001b[0;34m\u001b[0m\u001b[0;34m\u001b[0m\u001b[0m\n\u001b[1;32m     99\u001b[0m   \u001b[0;34m\"\"\"Mount your Google Drive at the specified mountpoint path.\"\"\"\u001b[0m\u001b[0;34m\u001b[0m\u001b[0;34m\u001b[0m\u001b[0m\n\u001b[0;32m--> 100\u001b[0;31m   return _mount(\n\u001b[0m\u001b[1;32m    101\u001b[0m       \u001b[0mmountpoint\u001b[0m\u001b[0;34m,\u001b[0m\u001b[0;34m\u001b[0m\u001b[0;34m\u001b[0m\u001b[0m\n\u001b[1;32m    102\u001b[0m       \u001b[0mforce_remount\u001b[0m\u001b[0;34m=\u001b[0m\u001b[0mforce_remount\u001b[0m\u001b[0;34m,\u001b[0m\u001b[0;34m\u001b[0m\u001b[0;34m\u001b[0m\u001b[0m\n",
            "\u001b[0;32m/usr/local/lib/python3.10/dist-packages/google/colab/drive.py\u001b[0m in \u001b[0;36m_mount\u001b[0;34m(mountpoint, force_remount, timeout_ms, ephemeral, readonly)\u001b[0m\n\u001b[1;32m    127\u001b[0m   )\n\u001b[1;32m    128\u001b[0m   \u001b[0;32mif\u001b[0m \u001b[0mephemeral\u001b[0m\u001b[0;34m:\u001b[0m\u001b[0;34m\u001b[0m\u001b[0;34m\u001b[0m\u001b[0m\n\u001b[0;32m--> 129\u001b[0;31m     _message.blocking_request(\n\u001b[0m\u001b[1;32m    130\u001b[0m         \u001b[0;34m'request_auth'\u001b[0m\u001b[0;34m,\u001b[0m \u001b[0mrequest\u001b[0m\u001b[0;34m=\u001b[0m\u001b[0;34m{\u001b[0m\u001b[0;34m'authType'\u001b[0m\u001b[0;34m:\u001b[0m \u001b[0;34m'dfs_ephemeral'\u001b[0m\u001b[0;34m}\u001b[0m\u001b[0;34m,\u001b[0m \u001b[0mtimeout_sec\u001b[0m\u001b[0;34m=\u001b[0m\u001b[0;32mNone\u001b[0m\u001b[0;34m\u001b[0m\u001b[0;34m\u001b[0m\u001b[0m\n\u001b[1;32m    131\u001b[0m     )\n",
            "\u001b[0;32m/usr/local/lib/python3.10/dist-packages/google/colab/_message.py\u001b[0m in \u001b[0;36mblocking_request\u001b[0;34m(request_type, request, timeout_sec, parent)\u001b[0m\n\u001b[1;32m    174\u001b[0m       \u001b[0mrequest_type\u001b[0m\u001b[0;34m,\u001b[0m \u001b[0mrequest\u001b[0m\u001b[0;34m,\u001b[0m \u001b[0mparent\u001b[0m\u001b[0;34m=\u001b[0m\u001b[0mparent\u001b[0m\u001b[0;34m,\u001b[0m \u001b[0mexpect_reply\u001b[0m\u001b[0;34m=\u001b[0m\u001b[0;32mTrue\u001b[0m\u001b[0;34m\u001b[0m\u001b[0;34m\u001b[0m\u001b[0m\n\u001b[1;32m    175\u001b[0m   )\n\u001b[0;32m--> 176\u001b[0;31m   \u001b[0;32mreturn\u001b[0m \u001b[0mread_reply_from_input\u001b[0m\u001b[0;34m(\u001b[0m\u001b[0mrequest_id\u001b[0m\u001b[0;34m,\u001b[0m \u001b[0mtimeout_sec\u001b[0m\u001b[0;34m)\u001b[0m\u001b[0;34m\u001b[0m\u001b[0;34m\u001b[0m\u001b[0m\n\u001b[0m",
            "\u001b[0;32m/usr/local/lib/python3.10/dist-packages/google/colab/_message.py\u001b[0m in \u001b[0;36mread_reply_from_input\u001b[0;34m(message_id, timeout_sec)\u001b[0m\n\u001b[1;32m    101\u001b[0m     ):\n\u001b[1;32m    102\u001b[0m       \u001b[0;32mif\u001b[0m \u001b[0;34m'error'\u001b[0m \u001b[0;32min\u001b[0m \u001b[0mreply\u001b[0m\u001b[0;34m:\u001b[0m\u001b[0;34m\u001b[0m\u001b[0;34m\u001b[0m\u001b[0m\n\u001b[0;32m--> 103\u001b[0;31m         \u001b[0;32mraise\u001b[0m \u001b[0mMessageError\u001b[0m\u001b[0;34m(\u001b[0m\u001b[0mreply\u001b[0m\u001b[0;34m[\u001b[0m\u001b[0;34m'error'\u001b[0m\u001b[0;34m]\u001b[0m\u001b[0;34m)\u001b[0m\u001b[0;34m\u001b[0m\u001b[0;34m\u001b[0m\u001b[0m\n\u001b[0m\u001b[1;32m    104\u001b[0m       \u001b[0;32mreturn\u001b[0m \u001b[0mreply\u001b[0m\u001b[0;34m.\u001b[0m\u001b[0mget\u001b[0m\u001b[0;34m(\u001b[0m\u001b[0;34m'data'\u001b[0m\u001b[0;34m,\u001b[0m \u001b[0;32mNone\u001b[0m\u001b[0;34m)\u001b[0m\u001b[0;34m\u001b[0m\u001b[0;34m\u001b[0m\u001b[0m\n\u001b[1;32m    105\u001b[0m \u001b[0;34m\u001b[0m\u001b[0m\n",
            "\u001b[0;31mMessageError\u001b[0m: Error: credential propagation was unsuccessful"
          ]
        }
      ]
    },
    {
      "cell_type": "code",
      "execution_count": null,
      "metadata": {
        "id": "cPiihBP7jEl5",
        "colab": {
          "base_uri": "https://localhost:8080/",
          "height": 245
        },
        "outputId": "fb4a64f3-5836-4f0e-9387-81a67e7cbbd9"
      },
      "outputs": [
        {
          "output_type": "error",
          "ename": "NameError",
          "evalue": "ignored",
          "traceback": [
            "\u001b[0;31m---------------------------------------------------------------------------\u001b[0m",
            "\u001b[0;31mNameError\u001b[0m                                 Traceback (most recent call last)",
            "\u001b[0;32m<ipython-input-3-cfc5bd9d638a>\u001b[0m in \u001b[0;36m<cell line: 6>\u001b[0;34m()\u001b[0m\n\u001b[1;32m      4\u001b[0m \u001b[0;34m\u001b[0m\u001b[0m\n\u001b[1;32m      5\u001b[0m \u001b[0;31m# Move the 'train' and 'test' directories to the temporary directory\u001b[0m\u001b[0;34m\u001b[0m\u001b[0;34m\u001b[0m\u001b[0m\n\u001b[0;32m----> 6\u001b[0;31m \u001b[0mshutil\u001b[0m\u001b[0;34m.\u001b[0m\u001b[0mmove\u001b[0m\u001b[0;34m(\u001b[0m\u001b[0;34m'train'\u001b[0m\u001b[0;34m,\u001b[0m \u001b[0mtemp_dir\u001b[0m\u001b[0;34m)\u001b[0m\u001b[0;34m\u001b[0m\u001b[0;34m\u001b[0m\u001b[0m\n\u001b[0m\u001b[1;32m      7\u001b[0m \u001b[0mshutil\u001b[0m\u001b[0;34m.\u001b[0m\u001b[0mmove\u001b[0m\u001b[0;34m(\u001b[0m\u001b[0;34m'test'\u001b[0m\u001b[0;34m,\u001b[0m \u001b[0mtemp_dir\u001b[0m\u001b[0;34m)\u001b[0m\u001b[0;34m\u001b[0m\u001b[0;34m\u001b[0m\u001b[0m\n\u001b[1;32m      8\u001b[0m \u001b[0;34m\u001b[0m\u001b[0m\n",
            "\u001b[0;31mNameError\u001b[0m: name 'shutil' is not defined"
          ]
        }
      ],
      "source": [
        "# Create a temporary directory to store the 'train' and 'test' directories\n",
        "temp_dir = '/content/temp_split'\n",
        "os.makedirs(temp_dir, exist_ok=True)\n",
        "\n",
        "# Move the 'train' and 'test' directories to the temporary directory\n",
        "shutil.move('train', temp_dir)\n",
        "shutil.move('test', temp_dir)\n",
        "\n",
        "# Zip the temporary directory\n",
        "shutil.make_archive('/content/split_dataset', 'zip', temp_dir)\n",
        "\n",
        "# Move the zipped split dataset to your Google Drive\n",
        "shutil.move('/content/split_dataset.zip', '/content/drive/MyDrive/')\n",
        "\n",
        "# Clean up the temporary directory\n",
        "shutil.rmtree(temp_dir)\n",
        "\n",
        "\n",
        "\n",
        "\n",
        "\n",
        "\n",
        "\n"
      ]
    },
    {
      "cell_type": "code",
      "execution_count": null,
      "metadata": {
        "colab": {
          "base_uri": "https://localhost:8080/"
        },
        "id": "5EYfUWCeNWVH",
        "outputId": "0b5c9715-5dde-41a0-91db-ea2b110fb350"
      },
      "outputs": [
        {
          "output_type": "stream",
          "name": "stdout",
          "text": [
            "/content/drive/MyDrive\n"
          ]
        }
      ],
      "source": [
        "%cd /content/drive/MyDrive/\n"
      ]
    },
    {
      "cell_type": "code",
      "execution_count": null,
      "metadata": {
        "id": "DOWrs37XNjQt"
      },
      "outputs": [],
      "source": [
        "!unzip Medicinal_Leaf_Dataset.zip\n"
      ]
    },
    {
      "cell_type": "code",
      "source": [],
      "metadata": {
        "id": "mZsx7B6Av1bM"
      },
      "execution_count": null,
      "outputs": []
    },
    {
      "cell_type": "code",
      "execution_count": null,
      "metadata": {
        "id": "HPtxRlErcFYs"
      },
      "outputs": [],
      "source": [
        "#***excute from here\n",
        "import tensorflow as tf\n",
        "from tensorflow.keras.applications import DenseNet121\n",
        "from tensorflow.keras.models import Model\n",
        "from tensorflow.keras.layers import GlobalAveragePooling2D, Dense\n",
        "from tensorflow.keras.preprocessing.image import ImageDataGenerator"
      ]
    },
    {
      "cell_type": "code",
      "execution_count": null,
      "metadata": {
        "colab": {
          "base_uri": "https://localhost:8080/"
        },
        "id": "WVTKaJrVbBvk",
        "outputId": "ec8e8422-0fbb-47a7-d2e4-91160bfb6465"
      },
      "outputs": [
        {
          "output_type": "stream",
          "name": "stdout",
          "text": [
            "Found 56472 images belonging to 115 classes.\n",
            "Found 14141 images belonging to 114 classes.\n"
          ]
        }
      ],
      "source": [
        "from tensorflow.keras.preprocessing.image import ImageDataGenerator\n",
        "\n",
        "# Define data generators for training, validation, and testing\n",
        "train_datagen = ImageDataGenerator(\n",
        "    rescale=1.0 / 255,  # Normalize pixel values to [0, 1]\n",
        "    rotation_range=20,  # Data augmentation options\n",
        "    width_shift_range=0.2,\n",
        "    height_shift_range=0.2,\n",
        "    horizontal_flip=True\n",
        ")\n",
        "\n",
        "validation_datagen = ImageDataGenerator(rescale=1.0 / 255)\n",
        "test_datagen = ImageDataGenerator(rescale=1.0 / 255)\n",
        "\n",
        "# Create data generators for each dataset split\n",
        "train_generator = train_datagen.flow_from_directory(\n",
        "    '/content/drive/MyDrive/train',\n",
        "    target_size=(224, 224),  # Match the input shape of your model\n",
        "    batch_size=32,\n",
        "    class_mode='categorical'  # Change if you're using a different label format\n",
        ")\n",
        "\n",
        "validation_generator = validation_datagen.flow_from_directory(\n",
        "    '/content/drive/MyDrive/test',\n",
        "    target_size=(224, 224),\n",
        "    batch_size=32,\n",
        "    class_mode='categorical'\n",
        ")\n",
        "\n",
        "\n"
      ]
    },
    {
      "cell_type": "code",
      "source": [
        "import os\n",
        "\n",
        "# Define the directory containing your dataset\n",
        "dataset_directory = '/content/drive/MyDrive/train'  # Update with your dataset directory\n",
        "\n",
        "# List the subdirectories in the dataset directory\n",
        "class_labels = os.listdir(dataset_directory)\n",
        "\n",
        "# Print the class labels\n",
        "class_labels.sort()\n",
        "print(class_labels )\n",
        "print(len(class_labels))\n",
        "\n"
      ],
      "metadata": {
        "colab": {
          "base_uri": "https://localhost:8080/"
        },
        "id": "89voS3lj5_so",
        "outputId": "a1a91804-122e-41d2-f6b7-1c5fb733c81a"
      },
      "execution_count": null,
      "outputs": [
        {
          "output_type": "stream",
          "name": "stdout",
          "text": [
            "['Abelmoschus moschatus medik(Ambrette )', 'Aegle marmelos (L.) corrêa(Wood apple)', 'Aerva sanguinolenta(Karadia)', 'Aloe vera (L.) burm.F(Aloe Vera)', 'Alpinia galanga (L.) willd(Blue ginger)', 'Andrographis paniculata (Burm.F.) Wall(Green Chirayta)', 'Aquilaria malaccensis(Eagle wood)', 'Aristolochia indica L(Indian Birthwort)', 'Artemisia absinthium L(Common Wormwood)', 'Azadirachta indica[Meliaceae](Indian lilac)', 'Bacopa monnieri (L.) Wettst(Water hyssop)', 'Belamcanda chinensis (L.) redouté(Blackberry Lily)', 'Bixa orellana L(Lipstick tree)', 'Boerhavia diffusa(Red spiderling)', 'Breynia androgyna (L.) (Star gooseberry)', 'Brucea mollis Wall. Ex Kurz(Kunain)', 'Canna indica L.(Indian shot)', 'Cassia fistula L.(Golden Shower Tree)', 'Catharanthus roseus (L.) G.Don(Madagascar periwinkle)', 'Centella asiatica (L.) Urb(Asiatic pennywort)', 'Chamaecostus cuspidatus (Nees & Mart.)(Fiery costus)', 'Cinnamomum tamala T.Nees & Eberm.(Malabar leaf)', 'Cinnamomum verum J.Presl(True cinnamon tree)', \"Cissus quadrangularis L.(Devil's backbone)\", 'Citrus aurantiifolia (Christm.) Swingle(Bitter orange)', 'Clerodendrum colebrookianum Walp.(East Indian glory bower)', 'Clitoria ternatea L.(Asian pigeon wings)', 'Cloranthus elatior(Tall chloranthus)', 'Crinum asiaticum linn.(Poison bulb)', 'Croton tiglium L.(Purging croton)', 'Curculigo orchioides(Golden eye-grass)', 'Curcuma augustifolia(East Indian arrowroot)', 'Curcuma caesia Roxb.(Black turmeric)', 'Curcuma zedoaria (christm.) roscoe(White Turmeric)', 'Cymbopogon nardus (L.) rendle(Citronella grass)', 'Datura metal(Horn of Plenty)', 'Dendrobium nobile(Noble dendrobium)', 'Desmodium gangeticum(Tick tree)', 'Eclipta prostrata(False daisy)', 'Elaeocarpus robustus Roxb(Ceylon Olive)', 'Elaeocarpus serratus(Indian olives )', 'Elettaria cardamomum (L.) maton_elachee', 'Eryngium foetidum L.(Culantro)', 'Etlingera elatior (Jack) R.M.Sm.(Alpinia elatior)', 'Flemingia strobilifera (L.) W.T.Aiton(Wild hops  )', 'Foeniculum vulgare(Sweet fennel)', 'Garcinia cowa roxb(Cowa mangosteen)', 'Garcinia morella (gaertn.) Desr.(Cowa Mangosteen)', 'Garcinia pedunculata Roxb. Ex Buch.-Ham.(Mangosteen)', 'Gardenia Jasminoides(Gardenia)', 'Gymnema sylvestre (Retz.) R.Br. Ex Sm.(Australian cowplant)', 'Hedychium spicatum Buch.-Ham. Ex Sm.(Spiked ginger lily)', 'Hellenia speciosa (J.Koenig) Govaerts (Cane-reed)', 'Hibiscus rosasinensis(Red Hibiscus)', 'Homalomena aromatica schott(Gandhi Root Oil)', 'Houttuynia Cordata(Fish mint)', 'Hygrophila Auriculata(Swamp weed)', 'Jatropha Curcas L(Physic nut)', 'Justicia Adhatoda L(Malabar nut)', 'Kaempferia Galanga(Aromatic ginger)', 'Kalanchoe Pinnata (Lam.) Pers(Miracle leaf)', 'Lasia Spinosa (L.) Thwaites(Lesia)', 'Lawsonia inermis L.(Henna)', 'Leucas aspera Link(Thumba)', 'Mentha arvensis L(Corn Mint)', 'Mesua ferrea L.(Nagakesar)', 'Mimusops elengi L.(Spanish cherry)', 'Murraya koenigii (L.)(Curry leaves)', 'Nyctanthes arbor-Tristis L.(Night Blooming Jasmine)', 'Ocimum americanum L.(Hoary basil)', 'Ocimum basilicum(Common Basil)', 'Ocimum tenuiflorum(White holy basil)', 'Operculina turpethum (L.) Silva Manso(Turpeth)', 'Opuntia vulgaris Mill(Prickly pear )', 'Oxalis corniculata L.(Yellow Oxalis)', 'Paederia foetida L.(Skunkvine)', 'Paederia scandens(Gandha Prasarani)', 'Passiflora edulis Sims(Passion fruit)', 'Persicaria chinensis (L.) H.Gross.(Creeping Smartweed)', 'Phlogacanthus thyrsiformis (Roxb. Ex Hardw.) Mabb(Nongmangkha)', 'Phyllanthus niruri L.(Country gooseberry)', 'Picria fel-terrae Lour.(Curanja)', 'Pimenta dioica (L.) Merr.(Allspice)', 'Piper longum L.(Indian Long Pepper)', 'Piper nigrum L.(Black Piper )', 'Plectranthus amboinicus (Lour.) Spreng.(Indian Borage)', 'Plumbago zeylanica L.(White lead wort)', 'Pogostemon benghalensis kuntze(Bengal Shrub-Mint)', 'Psidium guajava L.(Guava Seed)', 'Rauvolfia serpentina Benth. Ex Kurz(Serpentine root)', 'Rotheca serrata (L.) Steane & Mabb.(Clerodendrum, Bharangi)', 'Santalum album L.(White sandal wood)', 'Sapindus mukorossi(Indian Soapberry)', 'Saraca asoca (Roxb.) Willd.(Ashoka)', 'Segmented Medicinal Leaf Images', 'Senna alata (L.) Roxb.(Ring worm shrub)', 'Simarouba glauca DC.(Paradise tree)', 'Smilax chinal.(China root)', 'Solanum indicum(Brihati)', 'Spinacia oleracea(Spinach)', 'Stephania japonica Var. Discolor (Blume) Forman(Stephania)', 'Stereospermum chelonoides DC.(Parali)', 'Streblus asper lour.(Bar-inka)', 'Syzygium cumini (L.) skeels(Malabar plum)', 'Tacca chantrieri andré(Bat flower)', 'Terminalia arjuna(White Marudah)', 'Terminalia bellirica (Gaertn.) Roxb.(Bedda nut tree)', 'Terminalia catappa L.(Indian almond)', 'Terminalia chebula(Chebulic myrobalan)', 'Tinospora cordifolia(Heart leaved moonseed)', 'Vanilla planifolia(Flat-leaved vanilla)', 'Vitex negundo L.(Chinese Chaste Tree)', 'Zanthoxylum nitidum DC.(Shiny-leaf prickly-ash)', 'Zingiber officinale Rosc.(Ginger rhizome)', 'Ziziphus Jujuba Mill.(Jujube)']\n",
            "115\n"
          ]
        }
      ]
    },
    {
      "cell_type": "code",
      "execution_count": null,
      "metadata": {
        "colab": {
          "base_uri": "https://localhost:8080/"
        },
        "id": "fULl2VX9bios",
        "outputId": "842b877c-78cc-4351-cd1b-91c816f3defd"
      },
      "outputs": [
        {
          "output_type": "stream",
          "name": "stdout",
          "text": [
            "Downloading data from https://storage.googleapis.com/tensorflow/keras-applications/densenet/densenet121_weights_tf_dim_ordering_tf_kernels_notop.h5\n",
            "29084464/29084464 [==============================] - 0s 0us/step\n"
          ]
        }
      ],
      "source": [
        "# Load the pre-trained DenseNet121 model with ImageNet weights and exclude the top classification layer\n",
        "num_classes = 114\n",
        "base_model = DenseNet121(weights='imagenet', include_top=False, input_shape=(224, 224, 3))\n",
        "\n",
        "# Add custom classification layers on top of the base model\n",
        "x = base_model.output\n",
        "x = GlobalAveragePooling2D()(x)\n",
        "x = Dense(1024, activation='relu')(x)\n",
        "predictions = Dense(num_classes, activation='softmax')(x)\n",
        "\n",
        "# Create the new model\n",
        "model = Model(inputs=base_model.input, outputs=predictions)\n",
        "\n",
        "# Optionally freeze some layers of the base model\n",
        "for layer in base_model.layers:\n",
        "    layer.trainable = False\n",
        "\n",
        "# Compile the model\n",
        "model.compile(optimizer='adam', loss='categorical_crossentropy', metrics=['accuracy'])\n",
        "\n"
      ]
    },
    {
      "cell_type": "code",
      "execution_count": null,
      "metadata": {
        "colab": {
          "base_uri": "https://localhost:8080/"
        },
        "id": "Dj7B9HsVcgFg",
        "outputId": "4080ca4e-51b5-4fa2-e6dd-a96eda10d1f2"
      },
      "outputs": [
        {
          "output_type": "stream",
          "name": "stdout",
          "text": [
            "Epoch 1/5\n",
            "46/46 [==============================] - 378s 8s/step - loss: 0.1639 - accuracy: 0.9595 - val_loss: 0.1097 - val_accuracy: 0.9684\n",
            "Epoch 2/5\n",
            "46/46 [==============================] - 371s 8s/step - loss: 0.1537 - accuracy: 0.9615 - val_loss: 0.0951 - val_accuracy: 0.9684\n",
            "Epoch 3/5\n",
            "46/46 [==============================] - 377s 8s/step - loss: 0.0843 - accuracy: 0.9821 - val_loss: 0.0803 - val_accuracy: 0.9711\n",
            "Epoch 4/5\n",
            "46/46 [==============================] - 393s 9s/step - loss: 0.0621 - accuracy: 0.9863 - val_loss: 0.0493 - val_accuracy: 0.9895\n",
            "Epoch 5/5\n",
            "46/46 [==============================] - 382s 8s/step - loss: 0.0636 - accuracy: 0.9849 - val_loss: 0.0599 - val_accuracy: 0.9763\n"
          ]
        },
        {
          "output_type": "execute_result",
          "data": {
            "text/plain": [
              "<keras.src.callbacks.History at 0x7a729dca1690>"
            ]
          },
          "metadata": {},
          "execution_count": 8
        }
      ],
      "source": [
        "model.fit(\n",
        "    train_generator,\n",
        "    epochs=10,  # Adjust the number of epochs\n",
        "    validation_data=validation_generator\n",
        ")\n"
      ]
    },
    {
      "cell_type": "code",
      "source": [
        "validation_loss, validation_accuracy = model.evaluate(validation_generator)\n",
        "print(f'Validation accuracy: {validation_accuracy}')"
      ],
      "metadata": {
        "colab": {
          "base_uri": "https://localhost:8080/"
        },
        "id": "EILFqzgV0AQq",
        "outputId": "2c69a657-7353-4d56-ba93-d82e5b5461f3"
      },
      "execution_count": null,
      "outputs": [
        {
          "output_type": "stream",
          "name": "stdout",
          "text": [
            "12/12 [==============================] - 73s 6s/step - loss: 0.0599 - accuracy: 0.9763\n",
            "Validation accuracy: 0.9763157963752747\n"
          ]
        }
      ]
    },
    {
      "cell_type": "code",
      "source": [
        "model.save('Densenetmodel1.h5')"
      ],
      "metadata": {
        "colab": {
          "base_uri": "https://localhost:8080/"
        },
        "id": "j5hgoHy7-rM2",
        "outputId": "a85a86c3-8753-4bb2-c9d8-db93723aa41d"
      },
      "execution_count": null,
      "outputs": [
        {
          "output_type": "stream",
          "name": "stderr",
          "text": [
            "/usr/local/lib/python3.10/dist-packages/keras/src/engine/training.py:3079: UserWarning: You are saving your model as an HDF5 file via `model.save()`. This file format is considered legacy. We recommend using instead the native Keras format, e.g. `model.save('my_model.keras')`.\n",
            "  saving_api.save_model(\n"
          ]
        }
      ]
    },
    {
      "cell_type": "code",
      "source": [],
      "metadata": {
        "id": "XKj3MF7V_SeX"
      },
      "execution_count": null,
      "outputs": []
    },
    {
      "cell_type": "code",
      "source": [
        "predictions = model.predict(\"/content/drive/MyDrive/Medicinal Leaf Dataset/Segmented Medicinal Leaf Images/Artocarpus Heterophyllus (Jackfruit)/AH-S-001.jpg)"
      ],
      "metadata": {
        "id": "oI9k28e6_Sqw"
      },
      "execution_count": null,
      "outputs": []
    },
    {
      "cell_type": "code",
      "execution_count": null,
      "metadata": {
        "id": "Vk5UQbGDIqTA"
      },
      "outputs": [],
      "source": [
        "/content/drive/MyDrive/test/Mimusops elengi L.(Spanish cherry)/frame455.jpg"
      ]
    }
  ],
  "metadata": {
    "colab": {
      "provenance": []
    },
    "kernelspec": {
      "display_name": "Python 3",
      "name": "python3"
    },
    "language_info": {
      "name": "python"
    }
  },
  "nbformat": 4,
  "nbformat_minor": 0
}